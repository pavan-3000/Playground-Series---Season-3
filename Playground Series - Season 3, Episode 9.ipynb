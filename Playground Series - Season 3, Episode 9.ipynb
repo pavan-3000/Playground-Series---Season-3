{
 "cells": [
  {
   "cell_type": "code",
   "execution_count": 26,
   "id": "e1cc02e8",
   "metadata": {},
   "outputs": [],
   "source": [
    "import pandas as pd"
   ]
  },
  {
   "cell_type": "code",
   "execution_count": 27,
   "id": "daec166f",
   "metadata": {},
   "outputs": [],
   "source": [
    "train=pd.read_csv(\"train.csv\")\n",
    "test=pd.read_csv(\"test.csv\")"
   ]
  },
  {
   "cell_type": "code",
   "execution_count": 28,
   "id": "cf7eb1d5",
   "metadata": {},
   "outputs": [
    {
     "data": {
      "text/html": [
       "<div>\n",
       "<style scoped>\n",
       "    .dataframe tbody tr th:only-of-type {\n",
       "        vertical-align: middle;\n",
       "    }\n",
       "\n",
       "    .dataframe tbody tr th {\n",
       "        vertical-align: top;\n",
       "    }\n",
       "\n",
       "    .dataframe thead th {\n",
       "        text-align: right;\n",
       "    }\n",
       "</style>\n",
       "<table border=\"1\" class=\"dataframe\">\n",
       "  <thead>\n",
       "    <tr style=\"text-align: right;\">\n",
       "      <th></th>\n",
       "      <th>id</th>\n",
       "      <th>CementComponent</th>\n",
       "      <th>BlastFurnaceSlag</th>\n",
       "      <th>FlyAshComponent</th>\n",
       "      <th>WaterComponent</th>\n",
       "      <th>SuperplasticizerComponent</th>\n",
       "      <th>CoarseAggregateComponent</th>\n",
       "      <th>FineAggregateComponent</th>\n",
       "      <th>AgeInDays</th>\n",
       "      <th>Strength</th>\n",
       "    </tr>\n",
       "  </thead>\n",
       "  <tbody>\n",
       "    <tr>\n",
       "      <th>0</th>\n",
       "      <td>0</td>\n",
       "      <td>525.0</td>\n",
       "      <td>0.0</td>\n",
       "      <td>0.0</td>\n",
       "      <td>186.0</td>\n",
       "      <td>0.0</td>\n",
       "      <td>1125.0</td>\n",
       "      <td>613.0</td>\n",
       "      <td>3</td>\n",
       "      <td>10.38</td>\n",
       "    </tr>\n",
       "    <tr>\n",
       "      <th>1</th>\n",
       "      <td>1</td>\n",
       "      <td>143.0</td>\n",
       "      <td>169.0</td>\n",
       "      <td>143.0</td>\n",
       "      <td>191.0</td>\n",
       "      <td>8.0</td>\n",
       "      <td>967.0</td>\n",
       "      <td>643.0</td>\n",
       "      <td>28</td>\n",
       "      <td>23.52</td>\n",
       "    </tr>\n",
       "    <tr>\n",
       "      <th>2</th>\n",
       "      <td>2</td>\n",
       "      <td>289.0</td>\n",
       "      <td>134.7</td>\n",
       "      <td>0.0</td>\n",
       "      <td>185.7</td>\n",
       "      <td>0.0</td>\n",
       "      <td>1075.0</td>\n",
       "      <td>795.3</td>\n",
       "      <td>28</td>\n",
       "      <td>36.96</td>\n",
       "    </tr>\n",
       "    <tr>\n",
       "      <th>3</th>\n",
       "      <td>3</td>\n",
       "      <td>304.0</td>\n",
       "      <td>76.0</td>\n",
       "      <td>0.0</td>\n",
       "      <td>228.0</td>\n",
       "      <td>0.0</td>\n",
       "      <td>932.0</td>\n",
       "      <td>670.0</td>\n",
       "      <td>365</td>\n",
       "      <td>39.05</td>\n",
       "    </tr>\n",
       "    <tr>\n",
       "      <th>4</th>\n",
       "      <td>4</td>\n",
       "      <td>157.0</td>\n",
       "      <td>236.0</td>\n",
       "      <td>0.0</td>\n",
       "      <td>192.0</td>\n",
       "      <td>0.0</td>\n",
       "      <td>935.4</td>\n",
       "      <td>781.2</td>\n",
       "      <td>90</td>\n",
       "      <td>74.19</td>\n",
       "    </tr>\n",
       "  </tbody>\n",
       "</table>\n",
       "</div>"
      ],
      "text/plain": [
       "   id  CementComponent  BlastFurnaceSlag  FlyAshComponent  WaterComponent  \\\n",
       "0   0            525.0               0.0              0.0           186.0   \n",
       "1   1            143.0             169.0            143.0           191.0   \n",
       "2   2            289.0             134.7              0.0           185.7   \n",
       "3   3            304.0              76.0              0.0           228.0   \n",
       "4   4            157.0             236.0              0.0           192.0   \n",
       "\n",
       "   SuperplasticizerComponent  CoarseAggregateComponent  \\\n",
       "0                        0.0                    1125.0   \n",
       "1                        8.0                     967.0   \n",
       "2                        0.0                    1075.0   \n",
       "3                        0.0                     932.0   \n",
       "4                        0.0                     935.4   \n",
       "\n",
       "   FineAggregateComponent  AgeInDays  Strength  \n",
       "0                   613.0          3     10.38  \n",
       "1                   643.0         28     23.52  \n",
       "2                   795.3         28     36.96  \n",
       "3                   670.0        365     39.05  \n",
       "4                   781.2         90     74.19  "
      ]
     },
     "execution_count": 28,
     "metadata": {},
     "output_type": "execute_result"
    }
   ],
   "source": [
    "train.head()"
   ]
  },
  {
   "cell_type": "code",
   "execution_count": 29,
   "id": "74141e6c",
   "metadata": {},
   "outputs": [
    {
     "data": {
      "text/html": [
       "<div>\n",
       "<style scoped>\n",
       "    .dataframe tbody tr th:only-of-type {\n",
       "        vertical-align: middle;\n",
       "    }\n",
       "\n",
       "    .dataframe tbody tr th {\n",
       "        vertical-align: top;\n",
       "    }\n",
       "\n",
       "    .dataframe thead th {\n",
       "        text-align: right;\n",
       "    }\n",
       "</style>\n",
       "<table border=\"1\" class=\"dataframe\">\n",
       "  <thead>\n",
       "    <tr style=\"text-align: right;\">\n",
       "      <th></th>\n",
       "      <th>id</th>\n",
       "      <th>CementComponent</th>\n",
       "      <th>BlastFurnaceSlag</th>\n",
       "      <th>FlyAshComponent</th>\n",
       "      <th>WaterComponent</th>\n",
       "      <th>SuperplasticizerComponent</th>\n",
       "      <th>CoarseAggregateComponent</th>\n",
       "      <th>FineAggregateComponent</th>\n",
       "      <th>AgeInDays</th>\n",
       "    </tr>\n",
       "  </thead>\n",
       "  <tbody>\n",
       "    <tr>\n",
       "      <th>0</th>\n",
       "      <td>5407</td>\n",
       "      <td>166.1</td>\n",
       "      <td>75.4</td>\n",
       "      <td>163.8</td>\n",
       "      <td>173.8</td>\n",
       "      <td>4.6</td>\n",
       "      <td>1007.2</td>\n",
       "      <td>746.6</td>\n",
       "      <td>56</td>\n",
       "    </tr>\n",
       "    <tr>\n",
       "      <th>1</th>\n",
       "      <td>5408</td>\n",
       "      <td>304.0</td>\n",
       "      <td>0.0</td>\n",
       "      <td>0.0</td>\n",
       "      <td>190.0</td>\n",
       "      <td>0.0</td>\n",
       "      <td>998.0</td>\n",
       "      <td>801.0</td>\n",
       "      <td>7</td>\n",
       "    </tr>\n",
       "    <tr>\n",
       "      <th>2</th>\n",
       "      <td>5409</td>\n",
       "      <td>225.0</td>\n",
       "      <td>0.0</td>\n",
       "      <td>0.0</td>\n",
       "      <td>185.0</td>\n",
       "      <td>0.0</td>\n",
       "      <td>1113.0</td>\n",
       "      <td>833.0</td>\n",
       "      <td>28</td>\n",
       "    </tr>\n",
       "    <tr>\n",
       "      <th>3</th>\n",
       "      <td>5410</td>\n",
       "      <td>251.4</td>\n",
       "      <td>0.0</td>\n",
       "      <td>118.3</td>\n",
       "      <td>188.5</td>\n",
       "      <td>6.4</td>\n",
       "      <td>1028.4</td>\n",
       "      <td>757.7</td>\n",
       "      <td>100</td>\n",
       "    </tr>\n",
       "    <tr>\n",
       "      <th>4</th>\n",
       "      <td>5411</td>\n",
       "      <td>144.0</td>\n",
       "      <td>15.0</td>\n",
       "      <td>195.0</td>\n",
       "      <td>176.0</td>\n",
       "      <td>6.0</td>\n",
       "      <td>1021.0</td>\n",
       "      <td>709.0</td>\n",
       "      <td>28</td>\n",
       "    </tr>\n",
       "  </tbody>\n",
       "</table>\n",
       "</div>"
      ],
      "text/plain": [
       "     id  CementComponent  BlastFurnaceSlag  FlyAshComponent  WaterComponent  \\\n",
       "0  5407            166.1              75.4            163.8           173.8   \n",
       "1  5408            304.0               0.0              0.0           190.0   \n",
       "2  5409            225.0               0.0              0.0           185.0   \n",
       "3  5410            251.4               0.0            118.3           188.5   \n",
       "4  5411            144.0              15.0            195.0           176.0   \n",
       "\n",
       "   SuperplasticizerComponent  CoarseAggregateComponent  \\\n",
       "0                        4.6                    1007.2   \n",
       "1                        0.0                     998.0   \n",
       "2                        0.0                    1113.0   \n",
       "3                        6.4                    1028.4   \n",
       "4                        6.0                    1021.0   \n",
       "\n",
       "   FineAggregateComponent  AgeInDays  \n",
       "0                   746.6         56  \n",
       "1                   801.0          7  \n",
       "2                   833.0         28  \n",
       "3                   757.7        100  \n",
       "4                   709.0         28  "
      ]
     },
     "execution_count": 29,
     "metadata": {},
     "output_type": "execute_result"
    }
   ],
   "source": [
    "test.head()"
   ]
  },
  {
   "cell_type": "code",
   "execution_count": 30,
   "id": "fbe9515c",
   "metadata": {},
   "outputs": [
    {
     "data": {
      "text/plain": [
       "((5407, 10), (3605, 9))"
      ]
     },
     "execution_count": 30,
     "metadata": {},
     "output_type": "execute_result"
    }
   ],
   "source": [
    "train.shape,test.shape"
   ]
  },
  {
   "cell_type": "code",
   "execution_count": 31,
   "id": "50eba27f",
   "metadata": {},
   "outputs": [
    {
     "name": "stdout",
     "output_type": "stream",
     "text": [
      "<class 'pandas.core.frame.DataFrame'>\n",
      "RangeIndex: 5407 entries, 0 to 5406\n",
      "Data columns (total 10 columns):\n",
      " #   Column                     Non-Null Count  Dtype  \n",
      "---  ------                     --------------  -----  \n",
      " 0   id                         5407 non-null   int64  \n",
      " 1   CementComponent            5407 non-null   float64\n",
      " 2   BlastFurnaceSlag           5407 non-null   float64\n",
      " 3   FlyAshComponent            5407 non-null   float64\n",
      " 4   WaterComponent             5407 non-null   float64\n",
      " 5   SuperplasticizerComponent  5407 non-null   float64\n",
      " 6   CoarseAggregateComponent   5407 non-null   float64\n",
      " 7   FineAggregateComponent     5407 non-null   float64\n",
      " 8   AgeInDays                  5407 non-null   int64  \n",
      " 9   Strength                   5407 non-null   float64\n",
      "dtypes: float64(8), int64(2)\n",
      "memory usage: 422.5 KB\n"
     ]
    }
   ],
   "source": [
    "train.info()"
   ]
  },
  {
   "cell_type": "code",
   "execution_count": 32,
   "id": "a554240d",
   "metadata": {},
   "outputs": [
    {
     "name": "stdout",
     "output_type": "stream",
     "text": [
      "<class 'pandas.core.frame.DataFrame'>\n",
      "RangeIndex: 3605 entries, 0 to 3604\n",
      "Data columns (total 9 columns):\n",
      " #   Column                     Non-Null Count  Dtype  \n",
      "---  ------                     --------------  -----  \n",
      " 0   id                         3605 non-null   int64  \n",
      " 1   CementComponent            3605 non-null   float64\n",
      " 2   BlastFurnaceSlag           3605 non-null   float64\n",
      " 3   FlyAshComponent            3605 non-null   float64\n",
      " 4   WaterComponent             3605 non-null   float64\n",
      " 5   SuperplasticizerComponent  3605 non-null   float64\n",
      " 6   CoarseAggregateComponent   3605 non-null   float64\n",
      " 7   FineAggregateComponent     3605 non-null   float64\n",
      " 8   AgeInDays                  3605 non-null   int64  \n",
      "dtypes: float64(7), int64(2)\n",
      "memory usage: 253.6 KB\n"
     ]
    }
   ],
   "source": [
    "test.info()"
   ]
  },
  {
   "cell_type": "code",
   "execution_count": 33,
   "id": "07ceff45",
   "metadata": {},
   "outputs": [
    {
     "data": {
      "text/plain": [
       "id                           0\n",
       "CementComponent              0\n",
       "BlastFurnaceSlag             0\n",
       "FlyAshComponent              0\n",
       "WaterComponent               0\n",
       "SuperplasticizerComponent    0\n",
       "CoarseAggregateComponent     0\n",
       "FineAggregateComponent       0\n",
       "AgeInDays                    0\n",
       "Strength                     0\n",
       "dtype: int64"
      ]
     },
     "execution_count": 33,
     "metadata": {},
     "output_type": "execute_result"
    }
   ],
   "source": [
    "train.isnull().sum()"
   ]
  },
  {
   "cell_type": "code",
   "execution_count": 34,
   "id": "639024e9",
   "metadata": {},
   "outputs": [
    {
     "data": {
      "text/plain": [
       "id                           0\n",
       "CementComponent              0\n",
       "BlastFurnaceSlag             0\n",
       "FlyAshComponent              0\n",
       "WaterComponent               0\n",
       "SuperplasticizerComponent    0\n",
       "CoarseAggregateComponent     0\n",
       "FineAggregateComponent       0\n",
       "AgeInDays                    0\n",
       "dtype: int64"
      ]
     },
     "execution_count": 34,
     "metadata": {},
     "output_type": "execute_result"
    }
   ],
   "source": [
    "test.isnull().sum()"
   ]
  },
  {
   "cell_type": "code",
   "execution_count": 35,
   "id": "a123958c",
   "metadata": {},
   "outputs": [],
   "source": [
    "import matplotlib.pyplot as plt\n",
    "import seaborn as sns"
   ]
  },
  {
   "cell_type": "code",
   "execution_count": 36,
   "id": "0dec0354",
   "metadata": {},
   "outputs": [
    {
     "data": {
      "text/plain": [
       "<AxesSubplot: >"
      ]
     },
     "execution_count": 36,
     "metadata": {},
     "output_type": "execute_result"
    },
    {
     "data": {
      "image/png": "[encoded data removed]",
      "text/plain": [
       "<Figure size 1500x1000 with 8 Axes>"
      ]
     },
     "metadata": {},
     "output_type": "display_data"
    }
   ],
   "source": [
    "plt.figure(figsize=(15,10))\n",
    "plt.subplot(4,4,1)\n",
    "sns.boxplot(train['CementComponent'])\n",
    "\n",
    "plt.subplot(4,4,2)\n",
    "sns.boxplot(train['BlastFurnaceSlag'])\n",
    "\n",
    "plt.subplot(4,4,3)\n",
    "sns.boxplot(train['FlyAshComponent'])\n",
    "\n",
    "\n",
    "\n",
    "plt.subplot(4,4,4)\n",
    "sns.boxplot(train['WaterComponent'])\n",
    "\n",
    "\n",
    "\n",
    "plt.subplot(4,4,5)\n",
    "sns.boxplot(train['SuperplasticizerComponent'])\n",
    "\n",
    "\n",
    "\n",
    "plt.subplot(4,4,6)\n",
    "sns.boxplot(train['CoarseAggregateComponent'])\n",
    "\n",
    "\n",
    "plt.subplot(4,4,7)\n",
    "sns.boxplot(train['FineAggregateComponent'])\n",
    "\n",
    "plt.subplot(4,4,8)\n",
    "sns.boxplot(train['AgeInDays'])"
   ]
  },
  {
   "cell_type": "code",
   "execution_count": 37,
   "id": "65792f3d",
   "metadata": {},
   "outputs": [],
   "source": [
    "import numpy as np"
   ]
  },
  {
   "cell_type": "code",
   "execution_count": 38,
   "id": "bdcc7c7f",
   "metadata": {},
   "outputs": [],
   "source": [
    "train['BlastFurnaceSlag']=train['BlastFurnaceSlag'].clip(lower=train['BlastFurnaceSlag'].quantile(0.05),upper=train['BlastFurnaceSlag'].quantile(0.95))"
   ]
  },
  {
   "cell_type": "code",
   "execution_count": 39,
   "id": "ff47bc9c",
   "metadata": {},
   "outputs": [],
   "source": [
    "\n",
    "train['FlyAshComponent']=train['FlyAshComponent'].clip(lower=train['FlyAshComponent'].quantile(0.05),upper=train['FlyAshComponent'].quantile(0.95))\n",
    "train['WaterComponent']=train['WaterComponent'].clip(lower=train['WaterComponent'].quantile(0.05),upper=train['WaterComponent'].quantile(0.95))\n",
    "train['SuperplasticizerComponent']=train['SuperplasticizerComponent'].clip(lower=train['SuperplasticizerComponent'].quantile(0.05),upper=train['SuperplasticizerComponent'].quantile(0.95))\n",
    "train['FineAggregateComponent']=train['FineAggregateComponent'].clip(lower=train['FineAggregateComponent'].quantile(0.05),upper=train['FineAggregateComponent'].quantile(0.95))\n",
    "train['AgeInDays']=train['AgeInDays'].clip(lower=train['AgeInDays'].quantile(0.05),upper=train['AgeInDays'].quantile(0.95))"
   ]
  },
  {
   "cell_type": "code",
   "execution_count": 40,
   "id": "7d8e99c6",
   "metadata": {},
   "outputs": [
    {
     "data": {
      "text/plain": [
       "<AxesSubplot: >"
      ]
     },
     "execution_count": 40,
     "metadata": {},
     "output_type": "execute_result"
    },
    {
     "data": {
      "image/png": "[encoded data removed]",
      "text/plain": [
       "<Figure size 1500x1000 with 8 Axes>"
      ]
     },
     "metadata": {},
     "output_type": "display_data"
    }
   ],
   "source": [
    "plt.figure(figsize=(15,10))\n",
    "plt.subplot(4,4,1)\n",
    "sns.boxplot(test['CementComponent'])\n",
    "\n",
    "plt.subplot(4,4,2)\n",
    "sns.boxplot(test['BlastFurnaceSlag'])\n",
    "\n",
    "plt.subplot(4,4,3)\n",
    "sns.boxplot(test['FlyAshComponent'])\n",
    "\n",
    "\n",
    "\n",
    "plt.subplot(4,4,4)\n",
    "sns.boxplot(test['WaterComponent'])\n",
    "\n",
    "\n",
    "\n",
    "plt.subplot(4,4,5)\n",
    "sns.boxplot(test['SuperplasticizerComponent'])\n",
    "\n",
    "\n",
    "\n",
    "plt.subplot(4,4,6)\n",
    "sns.boxplot(test['CoarseAggregateComponent'])\n",
    "\n",
    "\n",
    "plt.subplot(4,4,7)\n",
    "sns.boxplot(test['FineAggregateComponent'])\n",
    "\n",
    "plt.subplot(4,4,8)\n",
    "sns.boxplot(test['AgeInDays'])"
   ]
  },
  {
   "cell_type": "code",
   "execution_count": 41,
   "id": "75db4117",
   "metadata": {},
   "outputs": [],
   "source": [
    "test['BlastFurnaceSlag']=test['BlastFurnaceSlag'].clip(lower=test['BlastFurnaceSlag'].quantile(0.05),upper=test['BlastFurnaceSlag'].quantile(0.95))\n",
    "\n",
    "test['WaterComponent']=test['WaterComponent'].clip(lower=test['WaterComponent'].quantile(0.05),upper=test['WaterComponent'].quantile(0.95))\n",
    "test['SuperplasticizerComponent']=test['SuperplasticizerComponent'].clip(lower=test['SuperplasticizerComponent'].quantile(0.05),upper=test['SuperplasticizerComponent'].quantile(0.95))\n",
    "test['FineAggregateComponent']=test['FineAggregateComponent'].clip(lower=test['FineAggregateComponent'].quantile(0.05),upper=test['FineAggregateComponent'].quantile(0.95))\n",
    "test['AgeInDays']=test['AgeInDays'].clip(lower=test['AgeInDays'].quantile(0.05),upper=test['AgeInDays'].quantile(0.95))"
   ]
  },
  {
   "cell_type": "code",
   "execution_count": 42,
   "id": "972dc843",
   "metadata": {},
   "outputs": [],
   "source": [
    "corr=train.corr()"
   ]
  },
  {
   "cell_type": "code",
   "execution_count": 43,
   "id": "e7b02c06",
   "metadata": {},
   "outputs": [
    {
     "data": {
      "text/plain": [
       "<AxesSubplot: >"
      ]
     },
     "execution_count": 43,
     "metadata": {},
     "output_type": "execute_result"
    },
    {
     "data": {
      "image/png": "[encoded data removed]",
      "text/plain": [
       "<Figure size 640x480 with 2 Axes>"
      ]
     },
     "metadata": {},
     "output_type": "display_data"
    }
   ],
   "source": [
    "sns.heatmap(corr)"
   ]
  },
  {
   "cell_type": "code",
   "execution_count": 44,
   "id": "dd45e4e7",
   "metadata": {},
   "outputs": [],
   "source": [
    "y=train['Strength']\n",
    "x=train.drop('Strength',axis=1)"
   ]
  },
  {
   "cell_type": "code",
   "execution_count": null,
   "id": "c8a21187",
   "metadata": {},
   "outputs": [],
   "source": []
  },
  {
   "cell_type": "code",
   "execution_count": 45,
   "id": "cd21af7e",
   "metadata": {},
   "outputs": [],
   "source": [
    "from sklearn.model_selection import train_test_split"
   ]
  },
  {
   "cell_type": "code",
   "execution_count": 46,
   "id": "7fb98000",
   "metadata": {},
   "outputs": [],
   "source": [
    "x_train,x_test,y_train,y_test=train_test_split(x,y,test_size=0.2,random_state=42)"
   ]
  },
  {
   "cell_type": "code",
   "execution_count": null,
   "id": "0e7a1c55",
   "metadata": {},
   "outputs": [],
   "source": [
    "from sklearn.preprocessing import MinMaxScaler"
   ]
  },
  {
   "cell_type": "code",
   "execution_count": null,
   "id": "d0e74d78",
   "metadata": {},
   "outputs": [],
   "source": [
    "scaler=MinMaxScaler()"
   ]
  },
  {
   "cell_type": "code",
   "execution_count": null,
   "id": "9a7ba422",
   "metadata": {},
   "outputs": [],
   "source": [
    "a"
   ]
  },
  {
   "cell_type": "code",
   "execution_count": null,
   "id": "64b4b62a",
   "metadata": {},
   "outputs": [],
   "source": [
    "scaler.fit(x_train)\n",
    "x_train=scaler.transform(x_train)\n",
    "x_test=scaler.transform(x_test)\n",
    "test=scaler.transform(test)"
   ]
  },
  {
   "cell_type": "code",
   "execution_count": null,
   "id": "83253776",
   "metadata": {},
   "outputs": [],
   "source": [
    "import xgboost as xbg"
   ]
  },
  {
   "cell_type": "code",
   "execution_count": null,
   "id": "64e4d65b",
   "metadata": {},
   "outputs": [],
   "source": [
    "boost=xbg.XGBRegressor(learning_rate=0.01,n_estimators=100,n_jobs=50,random_state=42,max_depth=5,gamma=0.5)"
   ]
  },
  {
   "cell_type": "code",
   "execution_count": null,
   "id": "63779466",
   "metadata": {
    "scrolled": true
   },
   "outputs": [],
   "source": [
    "boost.fit(x_train,y_train)"
   ]
  },
  {
   "cell_type": "code",
   "execution_count": null,
   "id": "9d88f25e",
   "metadata": {},
   "outputs": [],
   "source": [
    "test=test.drop('Strength',axis=1)"
   ]
  },
  {
   "cell_type": "code",
   "execution_count": 47,
   "id": "a420812f",
   "metadata": {},
   "outputs": [],
   "source": [
    "from keras.models import Sequential\n",
    "from keras.layers import Dense"
   ]
  },
  {
   "cell_type": "code",
   "execution_count": 48,
   "id": "7c3de6c8",
   "metadata": {},
   "outputs": [
    {
     "data": {
      "text/plain": [
       "((4325, 9), (4325,))"
      ]
     },
     "execution_count": 48,
     "metadata": {},
     "output_type": "execute_result"
    }
   ],
   "source": [
    "x_train.shape,y_train.shape"
   ]
  },
  {
   "cell_type": "code",
   "execution_count": 69,
   "id": "d9fc7b54",
   "metadata": {},
   "outputs": [],
   "source": [
    "from keras import regularizers"
   ]
  },
  {
   "cell_type": "code",
   "execution_count": 73,
   "id": "6ce4fe2c",
   "metadata": {},
   "outputs": [],
   "source": [
    "model=Sequential()\n",
    "model.add(Dense(500,input_dim=(9),activation='relu'))\n",
    "model.add(Dense(250,activation='relu',kernel_regularizer=regularizers.l1(0.01)))\n",
    "model.add(Dense(100,activation='relu'))\n",
    "model.add(Dense(30,activation='relu'))\n",
    "model.add(Dense(1,activation='linear'))\n",
    "\n",
    "model.compile(optimizer='adam',loss='mean_absolute_error',metrics='mse')"
   ]
  },
  {
   "cell_type": "code",
   "execution_count": 78,
   "id": "f4476062",
   "metadata": {},
   "outputs": [
    {
     "name": "stdout",
     "output_type": "stream",
     "text": [
      "Epoch 1/100\n",
      "9/9 [==============================] - 0s 9ms/step - loss: 17.7330 - mse: 158.6786\n",
      "Epoch 2/100\n",
      "9/9 [==============================] - 0s 12ms/step - loss: 17.6160 - mse: 158.2711\n",
      "Epoch 3/100\n",
      "9/9 [==============================] - 0s 9ms/step - loss: 17.4576 - mse: 154.9461\n",
      "Epoch 4/100\n",
      "9/9 [==============================] - 0s 11ms/step - loss: 17.4196 - mse: 156.1846\n",
      "Epoch 5/100\n",
      "9/9 [==============================] - 0s 10ms/step - loss: 17.4033 - mse: 156.4118\n",
      "Epoch 6/100\n",
      "9/9 [==============================] - 0s 11ms/step - loss: 17.4282 - mse: 160.2917\n",
      "Epoch 7/100\n",
      "9/9 [==============================] - 0s 13ms/step - loss: 17.1754 - mse: 154.2706\n",
      "Epoch 8/100\n",
      "9/9 [==============================] - 0s 11ms/step - loss: 17.3540 - mse: 162.4012\n",
      "Epoch 9/100\n",
      "9/9 [==============================] - 0s 11ms/step - loss: 17.2001 - mse: 156.7780\n",
      "Epoch 10/100\n",
      "9/9 [==============================] - 0s 21ms/step - loss: 17.1901 - mse: 158.0535\n",
      "Epoch 11/100\n",
      "9/9 [==============================] - 0s 12ms/step - loss: 17.0620 - mse: 156.7628\n",
      "Epoch 12/100\n",
      "9/9 [==============================] - 0s 11ms/step - loss: 16.9154 - mse: 154.5172\n",
      "Epoch 13/100\n",
      "9/9 [==============================] - 0s 11ms/step - loss: 17.0554 - mse: 159.6932\n",
      "Epoch 14/100\n",
      "9/9 [==============================] - 0s 11ms/step - loss: 17.2283 - mse: 165.7881\n",
      "Epoch 15/100\n",
      "9/9 [==============================] - 0s 10ms/step - loss: 17.0300 - mse: 161.4794\n",
      "Epoch 16/100\n",
      "9/9 [==============================] - 0s 10ms/step - loss: 16.7667 - mse: 156.7001\n",
      "Epoch 17/100\n",
      "9/9 [==============================] - 0s 10ms/step - loss: 16.7830 - mse: 159.0583\n",
      "Epoch 18/100\n",
      "9/9 [==============================] - 0s 12ms/step - loss: 16.6305 - mse: 156.0709\n",
      "Epoch 19/100\n",
      "9/9 [==============================] - 0s 12ms/step - loss: 16.6037 - mse: 156.1238\n",
      "Epoch 20/100\n",
      "9/9 [==============================] - 0s 14ms/step - loss: 16.6224 - mse: 155.8940\n",
      "Epoch 21/100\n",
      "9/9 [==============================] - 0s 12ms/step - loss: 16.5939 - mse: 158.7259\n",
      "Epoch 22/100\n",
      "9/9 [==============================] - 0s 11ms/step - loss: 16.3745 - mse: 154.9820\n",
      "Epoch 23/100\n",
      "9/9 [==============================] - 0s 12ms/step - loss: 16.4694 - mse: 159.6579\n",
      "Epoch 24/100\n",
      "9/9 [==============================] - 0s 10ms/step - loss: 16.2943 - mse: 154.5023\n",
      "Epoch 25/100\n",
      "9/9 [==============================] - 0s 10ms/step - loss: 16.4419 - mse: 159.1443\n",
      "Epoch 26/100\n",
      "9/9 [==============================] - 0s 12ms/step - loss: 16.2572 - mse: 156.4813\n",
      "Epoch 27/100\n",
      "9/9 [==============================] - 0s 11ms/step - loss: 16.0803 - mse: 152.9446\n",
      "Epoch 28/100\n",
      "9/9 [==============================] - 0s 11ms/step - loss: 16.1973 - mse: 157.1841\n",
      "Epoch 29/100\n",
      "9/9 [==============================] - 0s 11ms/step - loss: 16.2169 - mse: 159.2280\n",
      "Epoch 30/100\n",
      "9/9 [==============================] - 0s 12ms/step - loss: 16.1264 - mse: 158.7226\n",
      "Epoch 31/100\n",
      "9/9 [==============================] - 0s 11ms/step - loss: 16.2467 - mse: 161.9434\n",
      "Epoch 32/100\n",
      "9/9 [==============================] - 0s 11ms/step - loss: 16.0543 - mse: 157.4626\n",
      "Epoch 33/100\n",
      "9/9 [==============================] - 0s 9ms/step - loss: 15.8281 - mse: 153.6287\n",
      "Epoch 34/100\n",
      "9/9 [==============================] - 0s 16ms/step - loss: 15.8825 - mse: 157.3413\n",
      "Epoch 35/100\n",
      "9/9 [==============================] - 0s 11ms/step - loss: 15.7250 - mse: 153.4724\n",
      "Epoch 36/100\n",
      "9/9 [==============================] - 0s 11ms/step - loss: 15.7466 - mse: 155.8938\n",
      "Epoch 37/100\n",
      "9/9 [==============================] - 0s 11ms/step - loss: 15.5993 - mse: 152.9401\n",
      "Epoch 38/100\n",
      "9/9 [==============================] - 0s 12ms/step - loss: 15.5852 - mse: 154.2238\n",
      "Epoch 39/100\n",
      "9/9 [==============================] - 0s 10ms/step - loss: 15.5884 - mse: 155.7342\n",
      "Epoch 40/100\n",
      "9/9 [==============================] - 0s 11ms/step - loss: 15.6787 - mse: 158.3468\n",
      "Epoch 41/100\n",
      "9/9 [==============================] - 0s 10ms/step - loss: 15.6426 - mse: 158.9232\n",
      "Epoch 42/100\n",
      "9/9 [==============================] - 0s 13ms/step - loss: 15.6797 - mse: 161.2357\n",
      "Epoch 43/100\n",
      "9/9 [==============================] - 0s 10ms/step - loss: 15.3788 - mse: 155.1217\n",
      "Epoch 44/100\n",
      "9/9 [==============================] - 0s 12ms/step - loss: 15.5336 - mse: 160.7223\n",
      "Epoch 45/100\n",
      "9/9 [==============================] - 0s 12ms/step - loss: 15.5543 - mse: 159.6568\n",
      "Epoch 46/100\n",
      "9/9 [==============================] - 0s 7ms/step - loss: 15.3679 - mse: 156.6456\n",
      "Epoch 47/100\n",
      "9/9 [==============================] - 0s 14ms/step - loss: 15.4914 - mse: 161.8194\n",
      "Epoch 48/100\n",
      "9/9 [==============================] - 0s 11ms/step - loss: 15.2758 - mse: 158.5339\n",
      "Epoch 49/100\n",
      "9/9 [==============================] - 0s 11ms/step - loss: 15.2070 - mse: 155.0170\n",
      "Epoch 50/100\n",
      "9/9 [==============================] - 0s 10ms/step - loss: 15.2378 - mse: 157.5782\n",
      "Epoch 51/100\n",
      "9/9 [==============================] - 0s 12ms/step - loss: 15.0584 - mse: 153.7822\n",
      "Epoch 52/100\n",
      "9/9 [==============================] - 0s 11ms/step - loss: 15.1029 - mse: 155.8486\n",
      "Epoch 53/100\n",
      "9/9 [==============================] - 0s 12ms/step - loss: 15.3308 - mse: 165.4210\n",
      "Epoch 54/100\n",
      "9/9 [==============================] - 0s 10ms/step - loss: 15.0102 - mse: 155.6936\n",
      "Epoch 55/100\n",
      "9/9 [==============================] - 0s 10ms/step - loss: 15.0329 - mse: 157.7219\n",
      "Epoch 56/100\n",
      "9/9 [==============================] - 0s 10ms/step - loss: 14.9612 - mse: 158.3816\n",
      "Epoch 57/100\n",
      "9/9 [==============================] - 0s 11ms/step - loss: 15.1296 - mse: 161.9355\n",
      "Epoch 58/100\n",
      "9/9 [==============================] - 0s 12ms/step - loss: 15.1740 - mse: 164.1791\n",
      "Epoch 59/100\n",
      "9/9 [==============================] - 0s 10ms/step - loss: 15.2968 - mse: 167.6600\n",
      "Epoch 60/100\n",
      "9/9 [==============================] - 0s 11ms/step - loss: 14.8261 - mse: 157.2156\n",
      "Epoch 61/100\n",
      "9/9 [==============================] - 0s 10ms/step - loss: 14.7835 - mse: 156.3517\n",
      "Epoch 62/100\n",
      "9/9 [==============================] - 0s 10ms/step - loss: 14.6047 - mse: 152.2690\n",
      "Epoch 63/100\n",
      "9/9 [==============================] - 0s 11ms/step - loss: 14.5333 - mse: 152.3303\n",
      "Epoch 64/100\n",
      "9/9 [==============================] - 0s 12ms/step - loss: 14.4738 - mse: 153.5625\n",
      "Epoch 65/100\n",
      "9/9 [==============================] - 0s 9ms/step - loss: 14.4243 - mse: 153.5452\n",
      "Epoch 66/100\n",
      "9/9 [==============================] - 0s 12ms/step - loss: 14.4186 - mse: 152.2894\n",
      "Epoch 67/100\n",
      "9/9 [==============================] - 0s 11ms/step - loss: 14.4294 - mse: 154.9644\n",
      "Epoch 68/100\n",
      "9/9 [==============================] - 0s 12ms/step - loss: 14.3285 - mse: 154.5416\n",
      "Epoch 69/100\n",
      "9/9 [==============================] - 0s 12ms/step - loss: 14.2577 - mse: 152.7061\n",
      "Epoch 70/100\n",
      "9/9 [==============================] - 0s 13ms/step - loss: 14.2840 - mse: 153.5007\n",
      "Epoch 71/100\n",
      "9/9 [==============================] - 0s 11ms/step - loss: 14.2719 - mse: 153.9513\n",
      "Epoch 72/100\n",
      "9/9 [==============================] - 0s 11ms/step - loss: 14.3149 - mse: 156.8744\n",
      "Epoch 73/100\n",
      "9/9 [==============================] - 0s 12ms/step - loss: 14.2934 - mse: 156.6013\n",
      "Epoch 74/100\n",
      "9/9 [==============================] - 0s 12ms/step - loss: 14.1287 - mse: 153.0633\n",
      "Epoch 75/100\n",
      "9/9 [==============================] - 0s 11ms/step - loss: 14.1526 - mse: 154.6381\n",
      "Epoch 76/100\n",
      "9/9 [==============================] - 0s 13ms/step - loss: 14.0870 - mse: 154.2124\n",
      "Epoch 77/100\n",
      "9/9 [==============================] - 0s 12ms/step - loss: 14.2353 - mse: 157.4553\n",
      "Epoch 78/100\n",
      "9/9 [==============================] - 0s 12ms/step - loss: 14.2214 - mse: 159.2810\n",
      "Epoch 79/100\n",
      "9/9 [==============================] - 0s 14ms/step - loss: 13.9754 - mse: 152.1320\n",
      "Epoch 80/100\n",
      "9/9 [==============================] - 0s 15ms/step - loss: 14.0843 - mse: 156.5711\n",
      "Epoch 81/100\n",
      "9/9 [==============================] - 0s 11ms/step - loss: 13.8767 - mse: 152.2824\n",
      "Epoch 82/100\n",
      "9/9 [==============================] - 0s 11ms/step - loss: 14.2206 - mse: 162.3403\n",
      "Epoch 83/100\n",
      "9/9 [==============================] - 0s 9ms/step - loss: 14.2657 - mse: 163.1879\n",
      "Epoch 84/100\n",
      "9/9 [==============================] - 0s 12ms/step - loss: 14.1473 - mse: 159.0863\n",
      "Epoch 85/100\n"
     ]
    },
    {
     "name": "stdout",
     "output_type": "stream",
     "text": [
      "9/9 [==============================] - 0s 13ms/step - loss: 13.9520 - mse: 155.1550\n",
      "Epoch 86/100\n",
      "9/9 [==============================] - 0s 10ms/step - loss: 13.9335 - mse: 156.7415\n",
      "Epoch 87/100\n",
      "9/9 [==============================] - 0s 11ms/step - loss: 13.7585 - mse: 153.2130\n",
      "Epoch 88/100\n",
      "9/9 [==============================] - 0s 12ms/step - loss: 13.7696 - mse: 156.6004\n",
      "Epoch 89/100\n",
      "9/9 [==============================] - 0s 9ms/step - loss: 13.8751 - mse: 156.8039\n",
      "Epoch 90/100\n",
      "9/9 [==============================] - 0s 8ms/step - loss: 13.7207 - mse: 154.3484\n",
      "Epoch 91/100\n",
      "9/9 [==============================] - 0s 10ms/step - loss: 13.6851 - mse: 154.8508\n",
      "Epoch 92/100\n",
      "9/9 [==============================] - 0s 8ms/step - loss: 13.6329 - mse: 155.5968\n",
      "Epoch 93/100\n",
      "9/9 [==============================] - 0s 10ms/step - loss: 13.8366 - mse: 158.4963\n",
      "Epoch 94/100\n",
      "9/9 [==============================] - 0s 9ms/step - loss: 13.5470 - mse: 152.9826\n",
      "Epoch 95/100\n",
      "9/9 [==============================] - 0s 10ms/step - loss: 13.6912 - mse: 158.3639\n",
      "Epoch 96/100\n",
      "9/9 [==============================] - 0s 9ms/step - loss: 13.8539 - mse: 162.6831\n",
      "Epoch 97/100\n",
      "9/9 [==============================] - 0s 10ms/step - loss: 13.5147 - mse: 155.2127\n",
      "Epoch 98/100\n",
      "9/9 [==============================] - 0s 9ms/step - loss: 13.4589 - mse: 153.2082\n",
      "Epoch 99/100\n",
      "9/9 [==============================] - 0s 8ms/step - loss: 13.4795 - mse: 155.7446\n",
      "Epoch 100/100\n",
      "9/9 [==============================] - 0s 9ms/step - loss: 13.3970 - mse: 154.4893\n"
     ]
    },
    {
     "data": {
      "text/plain": [
       "<keras.callbacks.History at 0x207477778b0>"
      ]
     },
     "execution_count": 78,
     "metadata": {},
     "output_type": "execute_result"
    }
   ],
   "source": [
    "model.fit(x_train,y_train,epochs=100,batch_size=500)"
   ]
  },
  {
   "cell_type": "code",
   "execution_count": 80,
   "id": "9ad68077",
   "metadata": {},
   "outputs": [
    {
     "name": "stdout",
     "output_type": "stream",
     "text": [
      "34/34 [==============================] - 0s 2ms/step - loss: 13.4015 - mse: 148.7370\n"
     ]
    },
    {
     "data": {
      "text/plain": [
       "[13.401476860046387, 148.73703002929688]"
      ]
     },
     "execution_count": 80,
     "metadata": {},
     "output_type": "execute_result"
    }
   ],
   "source": [
    "model.evaluate(x_test,y_test)"
   ]
  },
  {
   "cell_type": "code",
   "execution_count": 81,
   "id": "a3ccee9a",
   "metadata": {},
   "outputs": [
    {
     "ename": "ValueError",
     "evalue": "in user code:\n\n    File \"C:\\Users\\pavan\\AppData\\Local\\Packages\\PythonSoftwareFoundation.Python.3.10_qbz5n2kfra8p0\\LocalCache\\local-packages\\Python310\\site-packages\\keras\\engine\\training.py\", line 2137, in predict_function  *\n        return step_function(self, iterator)\n    File \"C:\\Users\\pavan\\AppData\\Local\\Packages\\PythonSoftwareFoundation.Python.3.10_qbz5n2kfra8p0\\LocalCache\\local-packages\\Python310\\site-packages\\keras\\engine\\training.py\", line 2123, in step_function  **\n        outputs = model.distribute_strategy.run(run_step, args=(data,))\n    File \"C:\\Users\\pavan\\AppData\\Local\\Packages\\PythonSoftwareFoundation.Python.3.10_qbz5n2kfra8p0\\LocalCache\\local-packages\\Python310\\site-packages\\keras\\engine\\training.py\", line 2111, in run_step  **\n        outputs = model.predict_step(data)\n    File \"C:\\Users\\pavan\\AppData\\Local\\Packages\\PythonSoftwareFoundation.Python.3.10_qbz5n2kfra8p0\\LocalCache\\local-packages\\Python310\\site-packages\\keras\\engine\\training.py\", line 2079, in predict_step\n        return self(x, training=False)\n    File \"C:\\Users\\pavan\\AppData\\Local\\Packages\\PythonSoftwareFoundation.Python.3.10_qbz5n2kfra8p0\\LocalCache\\local-packages\\Python310\\site-packages\\keras\\utils\\traceback_utils.py\", line 70, in error_handler\n        raise e.with_traceback(filtered_tb) from None\n    File \"C:\\Users\\pavan\\AppData\\Local\\Packages\\PythonSoftwareFoundation.Python.3.10_qbz5n2kfra8p0\\LocalCache\\local-packages\\Python310\\site-packages\\keras\\engine\\input_spec.py\", line 295, in assert_input_compatibility\n        raise ValueError(\n\n    ValueError: Input 0 of layer \"sequential_10\" is incompatible with the layer: expected shape=(None, 9), found shape=(None, 10)\n",
     "output_type": "error",
     "traceback": [
      "\u001b[1;31m---------------------------------------------------------------------------\u001b[0m",
      "\u001b[1;31mValueError\u001b[0m                                Traceback (most recent call last)",
      "Cell \u001b[1;32mIn [81], line 1\u001b[0m\n\u001b[1;32m----> 1\u001b[0m y_pred\u001b[38;5;241m=\u001b[39m\u001b[43mmodel\u001b[49m\u001b[38;5;241;43m.\u001b[39;49m\u001b[43mpredict\u001b[49m\u001b[43m(\u001b[49m\u001b[43mtest\u001b[49m\u001b[43m)\u001b[49m\n",
      "File \u001b[1;32m~\\AppData\\Local\\Packages\\PythonSoftwareFoundation.Python.3.10_qbz5n2kfra8p0\\LocalCache\\local-packages\\Python310\\site-packages\\keras\\utils\\traceback_utils.py:70\u001b[0m, in \u001b[0;36mfilter_traceback.<locals>.error_handler\u001b[1;34m(*args, **kwargs)\u001b[0m\n\u001b[0;32m     67\u001b[0m     filtered_tb \u001b[38;5;241m=\u001b[39m _process_traceback_frames(e\u001b[38;5;241m.\u001b[39m__traceback__)\n\u001b[0;32m     68\u001b[0m     \u001b[38;5;66;03m# To get the full stack trace, call:\u001b[39;00m\n\u001b[0;32m     69\u001b[0m     \u001b[38;5;66;03m# `tf.debugging.disable_traceback_filtering()`\u001b[39;00m\n\u001b[1;32m---> 70\u001b[0m     \u001b[38;5;28;01mraise\u001b[39;00m e\u001b[38;5;241m.\u001b[39mwith_traceback(filtered_tb) \u001b[38;5;28;01mfrom\u001b[39;00m \u001b[38;5;28mNone\u001b[39m\n\u001b[0;32m     71\u001b[0m \u001b[38;5;28;01mfinally\u001b[39;00m:\n\u001b[0;32m     72\u001b[0m     \u001b[38;5;28;01mdel\u001b[39;00m filtered_tb\n",
      "File \u001b[1;32m~\\AppData\\Local\\Temp\\__autograph_generated_fileap267_2l.py:15\u001b[0m, in \u001b[0;36mouter_factory.<locals>.inner_factory.<locals>.tf__predict_function\u001b[1;34m(iterator)\u001b[0m\n\u001b[0;32m     13\u001b[0m \u001b[38;5;28;01mtry\u001b[39;00m:\n\u001b[0;32m     14\u001b[0m     do_return \u001b[38;5;241m=\u001b[39m \u001b[38;5;28;01mTrue\u001b[39;00m\n\u001b[1;32m---> 15\u001b[0m     retval_ \u001b[38;5;241m=\u001b[39m ag__\u001b[38;5;241m.\u001b[39mconverted_call(ag__\u001b[38;5;241m.\u001b[39mld(step_function), (ag__\u001b[38;5;241m.\u001b[39mld(\u001b[38;5;28mself\u001b[39m), ag__\u001b[38;5;241m.\u001b[39mld(iterator)), \u001b[38;5;28;01mNone\u001b[39;00m, fscope)\n\u001b[0;32m     16\u001b[0m \u001b[38;5;28;01mexcept\u001b[39;00m:\n\u001b[0;32m     17\u001b[0m     do_return \u001b[38;5;241m=\u001b[39m \u001b[38;5;28;01mFalse\u001b[39;00m\n",
      "\u001b[1;31mValueError\u001b[0m: in user code:\n\n    File \"C:\\Users\\pavan\\AppData\\Local\\Packages\\PythonSoftwareFoundation.Python.3.10_qbz5n2kfra8p0\\LocalCache\\local-packages\\Python310\\site-packages\\keras\\engine\\training.py\", line 2137, in predict_function  *\n        return step_function(self, iterator)\n    File \"C:\\Users\\pavan\\AppData\\Local\\Packages\\PythonSoftwareFoundation.Python.3.10_qbz5n2kfra8p0\\LocalCache\\local-packages\\Python310\\site-packages\\keras\\engine\\training.py\", line 2123, in step_function  **\n        outputs = model.distribute_strategy.run(run_step, args=(data,))\n    File \"C:\\Users\\pavan\\AppData\\Local\\Packages\\PythonSoftwareFoundation.Python.3.10_qbz5n2kfra8p0\\LocalCache\\local-packages\\Python310\\site-packages\\keras\\engine\\training.py\", line 2111, in run_step  **\n        outputs = model.predict_step(data)\n    File \"C:\\Users\\pavan\\AppData\\Local\\Packages\\PythonSoftwareFoundation.Python.3.10_qbz5n2kfra8p0\\LocalCache\\local-packages\\Python310\\site-packages\\keras\\engine\\training.py\", line 2079, in predict_step\n        return self(x, training=False)\n    File \"C:\\Users\\pavan\\AppData\\Local\\Packages\\PythonSoftwareFoundation.Python.3.10_qbz5n2kfra8p0\\LocalCache\\local-packages\\Python310\\site-packages\\keras\\utils\\traceback_utils.py\", line 70, in error_handler\n        raise e.with_traceback(filtered_tb) from None\n    File \"C:\\Users\\pavan\\AppData\\Local\\Packages\\PythonSoftwareFoundation.Python.3.10_qbz5n2kfra8p0\\LocalCache\\local-packages\\Python310\\site-packages\\keras\\engine\\input_spec.py\", line 295, in assert_input_compatibility\n        raise ValueError(\n\n    ValueError: Input 0 of layer \"sequential_10\" is incompatible with the layer: expected shape=(None, 9), found shape=(None, 10)\n"
     ]
    }
   ],
   "source": [
    "y_pred=model.predict(test)"
   ]
  },
  {
   "cell_type": "code",
   "execution_count": null,
   "id": "beb29a8f",
   "metadata": {},
   "outputs": [],
   "source": [
    "test['Strength']=y_pred"
   ]
  },
  {
   "cell_type": "code",
   "execution_count": null,
   "id": "2b43e0b9",
   "metadata": {},
   "outputs": [],
   "source": [
    "samp=test[['id','Strength']]"
   ]
  },
  {
   "cell_type": "code",
   "execution_count": null,
   "id": "c02d775a",
   "metadata": {},
   "outputs": [],
   "source": [
    "samp.to_csv(\"submission.csv\",index=False)"
   ]
  }
 ],
 "metadata": {
  "kernelspec": {
   "display_name": "Python 3 (ipykernel)",
   "language": "python",
   "name": "python3"
  },
  "language_info": {
   "codemirror_mode": {
    "name": "ipython",
    "version": 3
   },
   "file_extension": ".py",
   "mimetype": "text/x-python",
   "name": "python",
   "nbconvert_exporter": "python",
   "pygments_lexer": "ipython3",
   "version": "3.10.10"
  }
 },
 "nbformat": 4,
 "nbformat_minor": 5
}
